{
 "cells": [
  {
   "cell_type": "markdown",
   "metadata": {},
   "source": [
    "Basic Single Pedestrian Crossing dataset preview with pose projection overlays\n",
    "==============================================================================\n",
    "\n",
    "This notebook demonstrates how to load pose projection overlays and use various helper/rendering functions/classes. It requires the `pedestrians_scenarios` package to be installed."
   ]
  },
  {
   "cell_type": "code",
   "execution_count": null,
   "metadata": {},
   "outputs": [],
   "source": [
    "DATASET_DIR = '/datasets/CARLA/WideCamera'\n",
    "MAX_RENDERED_VIDEOS = 24  # float('inf') # for all in dataset\n",
    "MAX_DISPLAYED_VIDEOS = 8  # so that notebook doesn't crash"
   ]
  },
  {
   "cell_type": "code",
   "execution_count": null,
   "metadata": {},
   "outputs": [],
   "source": [
    "import pandas as pd\n",
    "import ast\n",
    "import os\n",
    "\n",
    "from pedestrians_scenarios.karma.utils.conversions import convert_list_to_vector3d, convert_list_to_transform\n",
    "from pedestrians_scenarios.karma.pose.pose_dict import convert_list_to_pose_dict, convert_list_to_pose_2d_dict\n",
    "\n",
    "def convert_to_list(x):\n",
    "    try:\n",
    "        return ast.literal_eval(x.replace('nan', '\"nan\"'))\n",
    "    except ValueError:\n",
    "        # for some reason pandas tries to convert the column name too...\n",
    "        return str(x)\n",
    "\n",
    "# hint: do not convert the data that is not needed, they take a long time\n",
    "dataset = pd.read_csv(\n",
    "    os.path.join(DATASET_DIR, 'data.csv'),\n",
    "    index_col=['id', 'camera.idx', 'frame.idx', 'pedestrian.idx'],\n",
    "    converters={\n",
    "        # 'camera.transform': lambda x: convert_list_to_transform(convert_to_list(x)),\n",
    "        'pedestrian.spawn_point': lambda x: convert_list_to_transform(convert_to_list(x)),\n",
    "        'frame.pedestrian.transform': lambda x: convert_list_to_transform(convert_to_list(x)),\n",
    "        # 'frame.pedestrian.velocity': lambda x: convert_list_to_vector3d(convert_to_list(x)),\n",
    "        # 'frame.pedestrian.pose.world': lambda x: convert_list_to_pose_dict(convert_to_list(x)),\n",
    "        # 'frame.pedestrian.pose.component': lambda x: convert_list_to_pose_dict(convert_to_list(x)),\n",
    "        # 'frame.pedestrian.pose.relative': lambda x: convert_list_to_pose_dict(convert_to_list(x)),\n",
    "        'frame.pedestrian.pose.camera': lambda x: convert_list_to_pose_2d_dict(convert_to_list(x))\n",
    "    }\n",
    ")"
   ]
  },
  {
   "cell_type": "code",
   "execution_count": null,
   "metadata": {},
   "outputs": [],
   "source": [
    "# extract the correct frame images from the recordings\n",
    "# for each frame, overlay the pose on the image\n",
    "# an save as new video\n",
    "\n",
    "import numpy as np\n",
    "from tqdm.auto import tqdm\n",
    "\n",
    "from pedestrians_scenarios.karma.pose.skeleton import CARLA_SKELETON\n",
    "from pedestrians_scenarios.karma.renderers.source_videos_renderer import SourceVideosRenderer\n",
    "\n",
    "os.makedirs(os.path.join(DATASET_DIR, 'poses'), exist_ok=True)\n",
    "\n",
    "video_groups = dataset.groupby(level=['id', 'camera.idx', 'pedestrian.idx'])\n",
    "total_rendered = min(MAX_RENDERED_VIDEOS, len(video_groups))\n",
    "current_rendered = 0\n",
    "\n",
    "renderer = SourceVideosRenderer(\n",
    "    data_dir=os.path.join(DATASET_DIR, 'clips'),\n",
    "    overlay_skeletons=True,\n",
    "    overlay_labels=True,\n",
    "    image_size=(dataset['camera.width'].iloc[0], dataset['camera.height'].iloc[0]), # assume all videos have the same size\n",
    ")\n",
    "\n",
    "def rounded_point(point):\n",
    "    l = point.location\n",
    "    return (round(l.x, 2), round(l.y, 2), round(l.z, 2))\n",
    "\n",
    "for (index_label, row_group) in tqdm(video_groups, desc='Rendering clip', total=total_rendered):\n",
    "    if current_rendered >= MAX_RENDERED_VIDEOS:\n",
    "        break\n",
    "\n",
    "    clip_id = index_label[0]\n",
    "    video_id = row_group.iloc[0]['camera.recording'].replace('clips/','').replace('.mp4', '') # this is derived from camera.idx and other values\n",
    "    pedestrian_id = index_label[2]\n",
    "    \n",
    "    frames = row_group.index.get_level_values('frame.idx')\n",
    "    start_frame = frames.min()\n",
    "    end_frame = frames.max()\n",
    "\n",
    "    projections = []\n",
    "    for _, row in row_group.iterrows():\n",
    "        projection = np.array([[v.x, v.y] for v in row['frame.pedestrian.pose.camera'].values()], dtype=np.float32)\n",
    "        projections.append(projection)\n",
    "    frames = renderer.render_clip(\n",
    "        video_id=video_id,\n",
    "        pedestrian_id=pedestrian_id,\n",
    "        clip_id=clip_id,\n",
    "        start_frame=start_frame,\n",
    "        end_frame=end_frame,\n",
    "        bboxes=None,\n",
    "        skeletons=[{\n",
    "            'keypoints': projections,\n",
    "            'color': None,\n",
    "            'type': CARLA_SKELETON\n",
    "        }],\n",
    "        labels={\n",
    "            'is_crossing': row_group['frame.pedestrian.is_crossing'].values,\n",
    "            'map': row_group['world.map'].str.split('/').str[-1].values,\n",
    "            'spawn': row_group['pedestrian.spawn_point'].apply(rounded_point).values,\n",
    "            'current': row_group['frame.pedestrian.transform'].apply(rounded_point).values,\n",
    "        }\n",
    "    )\n",
    "    renderer.frames_to_video(frames, video_id, os.path.join(DATASET_DIR, 'poses'))\n",
    "\n",
    "    current_rendered += 1\n",
    "\n",
    "    "
   ]
  },
  {
   "cell_type": "code",
   "execution_count": null,
   "metadata": {},
   "outputs": [],
   "source": [
    "import glob\n",
    "import random\n",
    "from IPython.display import HTML\n",
    "\n",
    "videos_list = glob.glob(os.path.join(DATASET_DIR, 'poses','*.mp4'))\n",
    "random.shuffle(videos_list)"
   ]
  },
  {
   "cell_type": "code",
   "execution_count": null,
   "metadata": {},
   "outputs": [],
   "source": [
    "shown_videos_list = videos_list[:MAX_DISPLAYED_VIDEOS]\n",
    "\n",
    "html_source = []\n",
    "for video_path in shown_videos_list:\n",
    "    video_tag = '<video width=\"48%\" controls src=\"{}\" type=\"video/mp4\"></video>'.format(video_path)\n",
    "    html_source.append(video_tag)\n",
    "\n",
    "HTML(data='\\n'.join(html_source))"
   ]
  }
 ],
 "metadata": {
  "interpreter": {
   "hash": "006d5deb8e6cdcd4312641bdf15f3bc20f0769a7305d81173599a7b40f33b4a2"
  },
  "kernelspec": {
   "display_name": "Python 3.8.10 64-bit",
   "language": "python",
   "name": "python3"
  },
  "language_info": {
   "codemirror_mode": {
    "name": "ipython",
    "version": 3
   },
   "file_extension": ".py",
   "mimetype": "text/x-python",
   "name": "python",
   "nbconvert_exporter": "python",
   "pygments_lexer": "ipython3",
   "version": "3.8.12"
  },
  "orig_nbformat": 4
 },
 "nbformat": 4,
 "nbformat_minor": 2
}
