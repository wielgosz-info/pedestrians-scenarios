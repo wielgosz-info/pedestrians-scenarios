{
 "cells": [
  {
   "cell_type": "markdown",
   "metadata": {},
   "source": [
    "Basic pedestrians crossing dataset generation + pose projection overlay\n",
    "=======================================================================\n",
    "\n",
    "Random generators are seeded, so unless code/settings are changed, the same results will be obtained."
   ]
  },
  {
   "cell_type": "code",
   "execution_count": null,
   "metadata": {},
   "outputs": [],
   "source": [
    "OUTPUT_DIR = '/outputs/scenarios/datasets/crossing'"
   ]
  },
  {
   "cell_type": "code",
   "execution_count": null,
   "metadata": {},
   "outputs": [],
   "source": [
    "import os\n",
    "import shutil\n",
    "\n",
    "if os.path.exists(OUTPUT_DIR):\n",
    "    shutil.rmtree(OUTPUT_DIR)"
   ]
  },
  {
   "cell_type": "code",
   "execution_count": null,
   "metadata": {},
   "outputs": [],
   "source": [
    "from pedestrians_scenarios.skeleton import main\n",
    "\n",
    "main([\n",
    "    f\"--outputs-dir={OUTPUT_DIR}\",\n",
    "    \"--number-of-clips=8\",\n",
    "    \"--clip-length-in-frames=600\",\n",
    "    \"--batch-size=4\",\n",
    "])"
   ]
  },
  {
   "cell_type": "code",
   "execution_count": null,
   "metadata": {},
   "outputs": [],
   "source": [
    "import pandas as pd\n",
    "import ast\n",
    "\n",
    "from pedestrians_scenarios.karma.utils.conversions import convert_flat_list_to_vector3d, convert_flat_list_to_transform\n",
    "from pedestrians_scenarios.karma.pose.pose_dict import convert_flat_list_to_pose_dict, convert_flat_list_to_pose_2d_dict\n",
    "\n",
    "dataset = pd.read_csv(\n",
    "    os.path.join(OUTPUT_DIR, 'data.csv'),\n",
    "    index_col=['id', 'camera.idx', 'frame.idx', 'pedestrian.idx'],\n",
    "    converters={\n",
    "        'camera.transform': lambda x: convert_flat_list_to_transform(ast.literal_eval(x)),\n",
    "        'pedestrian.spawn_point': lambda x: convert_flat_list_to_transform(ast.literal_eval(x)),\n",
    "        'frame.pedestrian.transform': lambda x: convert_flat_list_to_transform(ast.literal_eval(x)),\n",
    "        'frame.pedestrian.velocity': lambda x: convert_flat_list_to_vector3d(ast.literal_eval(x)),\n",
    "        'frame.pedestrian.pose.world': lambda x: convert_flat_list_to_pose_dict(ast.literal_eval(x)),\n",
    "        'frame.pedestrian.pose.component': lambda x: convert_flat_list_to_pose_dict(ast.literal_eval(x)),\n",
    "        'frame.pedestrian.pose.relative': lambda x: convert_flat_list_to_pose_dict(ast.literal_eval(x)),\n",
    "        'frame.camera.pose': lambda x: convert_flat_list_to_pose_2d_dict(ast.literal_eval(x))\n",
    "    }\n",
    ")"
   ]
  },
  {
   "cell_type": "code",
   "execution_count": null,
   "metadata": {},
   "outputs": [],
   "source": [
    "# get the data for the first pedestrian in the clips' 300th frame for now - this will get us one frame for each clip\n",
    "\n",
    "frame_idx = 250\n",
    "some_frames = dataset.loc[(slice(None), 0, frame_idx, 0), slice(None)]\n",
    "some_frames"
   ]
  },
  {
   "cell_type": "code",
   "execution_count": null,
   "metadata": {},
   "outputs": [],
   "source": [
    "# extract the correct frame images from the recordings\n",
    "\n",
    "import pims\n",
    "\n",
    "canvases = []\n",
    "for (index_label, row_series) in some_frames.iterrows():\n",
    "    video_path = os.path.join(OUTPUT_DIR, row_series['camera.recording'])\n",
    "    video = pims.PyAVReaderTimed(video_path)\n",
    "    frame_canvas = video[frame_idx]\n",
    "    canvases.append(frame_canvas)"
   ]
  },
  {
   "cell_type": "code",
   "execution_count": null,
   "metadata": {},
   "outputs": [],
   "source": [
    "# drawing method extracted from pedestrians-video-2-carla PointsRenderer\n",
    "\n",
    "import numpy as np\n",
    "from PIL import Image, ImageDraw\n",
    "\n",
    "def draw_projection_points(canvas, points, skeleton, color_values=None, lines=False):\n",
    "    \"\"\"\n",
    "    Draws the points on the copy of the canvas.\n",
    "    \"\"\"\n",
    "    rounded_points = np.round(points).astype(int)\n",
    "\n",
    "    end = canvas.shape[-1]\n",
    "    has_alpha = end == 4\n",
    "    img = Image.fromarray(canvas, 'RGBA' if has_alpha else 'RGB')\n",
    "    draw = ImageDraw.Draw(img, 'RGBA' if has_alpha else 'RGB')\n",
    "\n",
    "    if color_values is None:\n",
    "        color_values = list(skeleton.get_colors().values())\n",
    "\n",
    "    # if we know that skeleton has root point, we can draw it\n",
    "    root_idx = skeleton.get_root_point() if skeleton is not None else None\n",
    "    if root_idx is not None:\n",
    "        draw.rectangle(\n",
    "            [tuple(rounded_points[0] - 2), tuple(rounded_points[0] + 2)],\n",
    "            fill=color_values[0][:end],\n",
    "            outline=None\n",
    "        )\n",
    "\n",
    "    for idx, point in enumerate(rounded_points):\n",
    "        if idx == root_idx:\n",
    "            continue\n",
    "        draw.ellipse(\n",
    "            [tuple(point - 2), tuple(point + 2)],\n",
    "            fill=color_values[idx][:end],\n",
    "            outline=None\n",
    "        )\n",
    "\n",
    "    if lines and hasattr(skeleton, 'get_edges'):\n",
    "        height, width = canvas.shape[:2]\n",
    "        edges = skeleton.get_edges()\n",
    "        for edge in edges:\n",
    "            line_start = tuple(rounded_points[edge[0].value])\n",
    "            line_end = tuple(rounded_points[edge[1].value])\n",
    "            # skip line if either one of the points is not visible\n",
    "            if not (line_start[0] > 0 and line_start[1] > 0 and line_end[0] > 0 and line_end[1] > 0\n",
    "                    and line_start[0] < width and line_start[1] < height and line_end[0] < width and line_end[1] < height):\n",
    "                continue\n",
    "            draw.line(\n",
    "                [line_start, line_end],\n",
    "                fill=color_values[edge[0].value][:end],\n",
    "                width=2\n",
    "            )\n",
    "\n",
    "    return np.array(img)"
   ]
  },
  {
   "cell_type": "code",
   "execution_count": null,
   "metadata": {},
   "outputs": [],
   "source": [
    "# for each frame, overlay the pose on the image\n",
    "\n",
    "from pedestrians_scenarios.karma.pose.skeleton import CARLA_SKELETON\n",
    "\n",
    "class MockCamera(object):\n",
    "    attributes = {\n",
    "        'image_size_x': 800,\n",
    "        'image_size_y': 600,\n",
    "        'fov': 90.0,\n",
    "        'lens_x_size': 0.08,\n",
    "        'lens_y_size': 0.08,\n",
    "    }\n",
    "\n",
    "drawings = []\n",
    "for (index_label, row_series), frame_canvas in zip(some_frames.iterrows(), canvases):\n",
    "    projection = np.array([[v.x, v.y] for v in row_series['frame.camera.pose'].values()], dtype=np.float32)\n",
    "    drawing = draw_projection_points(frame_canvas, projection, CARLA_SKELETON, None, lines=True)\n",
    "    drawings.append(Image.fromarray(drawing))\n",
    "    "
   ]
  },
  {
   "cell_type": "code",
   "execution_count": null,
   "metadata": {},
   "outputs": [],
   "source": [
    "from IPython.display import display\n",
    "\n",
    "for drawing in drawings:\n",
    "    display(drawing)"
   ]
  }
 ],
 "metadata": {
  "interpreter": {
   "hash": "006d5deb8e6cdcd4312641bdf15f3bc20f0769a7305d81173599a7b40f33b4a2"
  },
  "kernelspec": {
   "display_name": "Python 3.8.10 64-bit",
   "language": "python",
   "name": "python3"
  },
  "language_info": {
   "codemirror_mode": {
    "name": "ipython",
    "version": 3
   },
   "file_extension": ".py",
   "mimetype": "text/x-python",
   "name": "python",
   "nbconvert_exporter": "python",
   "pygments_lexer": "ipython3",
   "version": "3.8.10"
  },
  "orig_nbformat": 4
 },
 "nbformat": 4,
 "nbformat_minor": 2
}
