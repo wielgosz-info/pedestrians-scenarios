{
 "cells": [
  {
   "cell_type": "markdown",
   "metadata": {},
   "source": [
    "Basic pedestrians crossing dataset generation + pose projection overlay\n",
    "=======================================================================\n",
    "\n",
    "Random generators are seeded, so unless code/settings are changed, the same results will be obtained."
   ]
  },
  {
   "cell_type": "code",
   "execution_count": null,
   "metadata": {},
   "outputs": [],
   "source": [
    "OUTPUT_DIR = '/outputs/scenarios/datasets/crossing'"
   ]
  },
  {
   "cell_type": "code",
   "execution_count": null,
   "metadata": {},
   "outputs": [],
   "source": [
    "import os\n",
    "import shutil\n",
    "\n",
    "if os.path.exists(OUTPUT_DIR):\n",
    "    shutil.rmtree(OUTPUT_DIR)"
   ]
  },
  {
   "cell_type": "code",
   "execution_count": null,
   "metadata": {},
   "outputs": [],
   "source": [
    "from pedestrians_scenarios.skeleton import main\n",
    "\n",
    "main([\n",
    "    f\"--outputs-dir={OUTPUT_DIR}\",\n",
    "    \"--number-of-clips=8\",\n",
    "    \"--clip-length-in-frames=600\",\n",
    "    \"--batch-size=4\",\n",
    "])"
   ]
  },
  {
   "cell_type": "code",
   "execution_count": null,
   "metadata": {},
   "outputs": [],
   "source": [
    "import pandas as pd\n",
    "import ast\n",
    "\n",
    "from pedestrians_scenarios.karma.utils.conversions import convert_flat_list_to_vector3d, convert_flat_list_to_transform\n",
    "from pedestrians_scenarios.karma.pose.pose_dict import convert_flat_list_to_pose_dict, convert_flat_list_to_pose_2d_dict\n",
    "\n",
    "dataset = pd.read_csv(\n",
    "    os.path.join(OUTPUT_DIR, 'data.csv'),\n",
    "    index_col=['id', 'camera.idx', 'frame.idx', 'pedestrian.idx'],\n",
    "    converters={\n",
    "        'camera.transform': lambda x: convert_flat_list_to_transform(ast.literal_eval(x)),\n",
    "        'pedestrian.spawn_point': lambda x: convert_flat_list_to_transform(ast.literal_eval(x)),\n",
    "        'frame.pedestrian.transform': lambda x: convert_flat_list_to_transform(ast.literal_eval(x)),\n",
    "        'frame.pedestrian.velocity': lambda x: convert_flat_list_to_vector3d(ast.literal_eval(x)),\n",
    "        'frame.pedestrian.pose.world': lambda x: convert_flat_list_to_pose_dict(ast.literal_eval(x)),\n",
    "        'frame.pedestrian.pose.component': lambda x: convert_flat_list_to_pose_dict(ast.literal_eval(x)),\n",
    "        'frame.pedestrian.pose.relative': lambda x: convert_flat_list_to_pose_dict(ast.literal_eval(x)),\n",
    "        'frame.camera.pose': lambda x: convert_flat_list_to_pose_2d_dict(ast.literal_eval(x))\n",
    "    }\n",
    ")"
   ]
  },
  {
   "cell_type": "code",
   "execution_count": null,
   "metadata": {},
   "outputs": [],
   "source": [
    "# extract the correct frame images from the recordings\n",
    "# for each frame, overlay the pose on the image\n",
    "# an save as new video\n",
    "\n",
    "import numpy as np\n",
    "\n",
    "from pedestrians_scenarios.karma.pose.skeleton import CARLA_SKELETON\n",
    "from pedestrians_scenarios.karma.renderers.source_videos_renderer import SourceVideosRenderer\n",
    "\n",
    "os.makedirs(os.path.join(OUTPUT_DIR, 'poses'), exist_ok=True)\n",
    "renderer = SourceVideosRenderer(data_dir=os.path.join(OUTPUT_DIR, 'clips'))\n",
    "\n",
    "\n",
    "for (index_label, row_group) in dataset.groupby(level=['id', 'camera.idx', 'pedestrian.idx']):\n",
    "    clip_id = index_label[0]\n",
    "    video_id = row_group.iloc[0]['camera.recording'].replace('clips/','').replace('.mp4', '') # this is derived from camera.idx and other values\n",
    "    pedestrian_id = index_label[2]\n",
    "    projections = []\n",
    "    for _, row in row_group.iterrows():\n",
    "        projection = np.array([[v.x, v.y] for v in row['frame.camera.pose'].values()], dtype=np.float32)\n",
    "        projections.append(projection)\n",
    "    frames = renderer.render_clip(\n",
    "        video_id=video_id,\n",
    "        pedestrian_id=pedestrian_id,\n",
    "        clip_id=clip_id,\n",
    "        start_frame=0,\n",
    "        end_frame=len(projections),\n",
    "        bboxes=None,\n",
    "        skeletons=[{\n",
    "            'keypoints': projections,\n",
    "            'color': None,\n",
    "            'type': CARLA_SKELETON\n",
    "        }]\n",
    "    )\n",
    "    renderer.frames_to_video(frames, video_id, os.path.join(OUTPUT_DIR, 'poses'))\n",
    "\n",
    "    "
   ]
  },
  {
   "cell_type": "code",
   "execution_count": null,
   "metadata": {},
   "outputs": [],
   "source": [
    "import glob\n",
    "from IPython.display import HTML\n",
    "\n",
    "videos_list = glob.glob('/outputs/scenarios/datasets/crossing/poses/*.mp4', recursive=True)"
   ]
  },
  {
   "cell_type": "code",
   "execution_count": null,
   "metadata": {},
   "outputs": [],
   "source": [
    "shown_videos_list = videos_list[:4] # limit number of videos so that jupyter notebook doesn't crash\n",
    "\n",
    "html_source = []\n",
    "for video_path in shown_videos_list:\n",
    "    video_tag = '<video width=\"100%\" controls src=\"{}\" type=\"video/mp4\"></video>'.format(video_path)\n",
    "    html_source.append(video_tag)\n",
    "\n",
    "HTML(data='<br />\\n'.join(html_source))"
   ]
  }
 ],
 "metadata": {
  "interpreter": {
   "hash": "006d5deb8e6cdcd4312641bdf15f3bc20f0769a7305d81173599a7b40f33b4a2"
  },
  "kernelspec": {
   "display_name": "Python 3.8.10 64-bit",
   "language": "python",
   "name": "python3"
  },
  "language_info": {
   "codemirror_mode": {
    "name": "ipython",
    "version": 3
   },
   "file_extension": ".py",
   "mimetype": "text/x-python",
   "name": "python",
   "nbconvert_exporter": "python",
   "pygments_lexer": "ipython3",
   "version": "3.8.10"
  },
  "orig_nbformat": 4
 },
 "nbformat": 4,
 "nbformat_minor": 2
}
