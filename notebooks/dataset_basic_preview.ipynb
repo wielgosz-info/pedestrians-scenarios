{
 "cells": [
  {
   "cell_type": "markdown",
   "metadata": {},
   "source": [
    "Basic pedestrians crossing dataset preview\n",
    "======================================================================="
   ]
  },
  {
   "cell_type": "code",
   "execution_count": null,
   "metadata": {},
   "outputs": [],
   "source": [
    "DATASET_DIR = '/outputs/scenarios/datasets/crossing'"
   ]
  },
  {
   "cell_type": "code",
   "execution_count": null,
   "metadata": {},
   "outputs": [],
   "source": [
    "import pandas as pd\n",
    "import ast\n",
    "import os\n",
    "\n",
    "dataset = pd.read_csv(\n",
    "    os.path.join(DATASET_DIR, 'data.csv'),\n",
    "    index_col=['id', 'camera.idx', 'frame.idx', 'pedestrian.idx'],\n",
    "    converters={\n",
    "        'camera.transform': ast.literal_eval,\n",
    "        'pedestrian.spawn_point': ast.literal_eval,\n",
    "        'frame.pedestrian.transform': ast.literal_eval,\n",
    "        'frame.pedestrian.velocity': ast.literal_eval,\n",
    "        'frame.pedestrian.pose.world': ast.literal_eval,\n",
    "        'frame.pedestrian.pose.component': ast.literal_eval,\n",
    "        'frame.pedestrian.pose.relative': ast.literal_eval,\n",
    "        'frame.camera.pose': ast.literal_eval\n",
    "    }\n",
    ")"
   ]
  },
  {
   "cell_type": "code",
   "execution_count": null,
   "metadata": {},
   "outputs": [],
   "source": [
    "# display the first few rows\n",
    "dataset.head()"
   ]
  },
  {
   "cell_type": "code",
   "execution_count": null,
   "metadata": {},
   "outputs": [],
   "source": [
    "unique_videos_list = dataset.loc[:, 'camera.recording'].unique()"
   ]
  },
  {
   "cell_type": "code",
   "execution_count": null,
   "metadata": {},
   "outputs": [],
   "source": [
    "from IPython.display import HTML\n",
    "\n",
    "shown_videos_list = unique_videos_list[:8] # limit number of videos so that jupyter notebook doesn't crash\n",
    "\n",
    "html_source = []\n",
    "for recording_name in shown_videos_list:\n",
    "    video_path = os.path.join(DATASET_DIR, recording_name)\n",
    "    video_tag = '<video width=\"100%\" controls src=\"{}\" type=\"video/mp4\"></video>'.format(video_path)\n",
    "    html_source.append(video_tag)\n",
    "\n",
    "HTML(data='<br />\\n'.join(html_source))"
   ]
  }
 ],
 "metadata": {
  "interpreter": {
   "hash": "006d5deb8e6cdcd4312641bdf15f3bc20f0769a7305d81173599a7b40f33b4a2"
  },
  "kernelspec": {
   "display_name": "Python 3.8.10 64-bit",
   "language": "python",
   "name": "python3"
  },
  "language_info": {
   "codemirror_mode": {
    "name": "ipython",
    "version": 3
   },
   "file_extension": ".py",
   "mimetype": "text/x-python",
   "name": "python",
   "nbconvert_exporter": "python",
   "pygments_lexer": "ipython3",
   "version": "3.8.10"
  },
  "orig_nbformat": 4
 },
 "nbformat": 4,
 "nbformat_minor": 2
}
