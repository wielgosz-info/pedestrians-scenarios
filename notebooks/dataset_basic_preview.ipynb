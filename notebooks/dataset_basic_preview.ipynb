{
 "cells": [
  {
   "cell_type": "markdown",
   "metadata": {},
   "source": [
    "Basic pedestrians crossing dataset preview\n",
    "======================================================================="
   ]
  },
  {
   "cell_type": "code",
   "execution_count": null,
   "metadata": {},
   "outputs": [],
   "source": [
    "DATASET_DIR = '/outputs/maciek_jitter'"
   ]
  },
  {
   "cell_type": "code",
   "execution_count": null,
   "metadata": {},
   "outputs": [],
   "source": [
    "import pandas as pd\n",
    "import ast\n",
    "import os\n",
    "\n",
    "def convert_to_list(x):\n",
    "    try:\n",
    "        return ast.literal_eval(x)\n",
    "    except ValueError:\n",
    "        # for some reason pandas tries to convert the column name too...\n",
    "        return str(x)\n",
    "\n",
    "# hint: do not convert the poses that are not needed, they take a long time\n",
    "dataset = pd.read_csv(\n",
    "    os.path.join(DATASET_DIR, 'data.csv'),\n",
    "    index_col=['id', 'camera.idx', 'frame.idx', 'pedestrian.idx'],\n",
    "    header=0,\n",
    "    converters={\n",
    "        'camera.transform': convert_to_list,\n",
    "        'pedestrian.spawn_point': convert_to_list,\n",
    "        'frame.pedestrian.transform': convert_to_list,\n",
    "        'frame.pedestrian.velocity': convert_to_list,\n",
    "        # 'frame.pedestrian.pose.world': convert_to_list,\n",
    "        # 'frame.pedestrian.pose.component': convert_to_list,\n",
    "        # 'frame.pedestrian.pose.relative': convert_to_list,\n",
    "        'frame.pedestrian.pose.camera': convert_to_list\n",
    "    }\n",
    ")"
   ]
  },
  {
   "cell_type": "code",
   "execution_count": null,
   "metadata": {},
   "outputs": [],
   "source": [
    "# display the first few rows\n",
    "dataset.head()"
   ]
  },
  {
   "cell_type": "code",
   "execution_count": null,
   "metadata": {},
   "outputs": [],
   "source": [
    "unique_videos_list = dataset.loc[:, 'camera.recording'].unique()"
   ]
  },
  {
   "cell_type": "code",
   "execution_count": null,
   "metadata": {},
   "outputs": [],
   "source": [
    "from IPython.display import HTML\n",
    "\n",
    "shown_videos_list = unique_videos_list[:8] # limit number of videos so that jupyter notebook doesn't crash\n",
    "\n",
    "html_source = []\n",
    "for recording_name in shown_videos_list:\n",
    "    video_path = os.path.join(DATASET_DIR, recording_name)\n",
    "    video_tag = '<video width=\"100%\" controls src=\"{}\" type=\"video/mp4\"></video>'.format(video_path)\n",
    "    html_source.append(video_tag)\n",
    "\n",
    "HTML(data='<br />\\n'.join(html_source))"
   ]
  }
 ],
 "metadata": {
  "interpreter": {
   "hash": "006d5deb8e6cdcd4312641bdf15f3bc20f0769a7305d81173599a7b40f33b4a2"
  },
  "kernelspec": {
   "display_name": "Python 3.8.10 64-bit",
   "language": "python",
   "name": "python3"
  },
  "language_info": {
   "codemirror_mode": {
    "name": "ipython",
    "version": 3
   },
   "file_extension": ".py",
   "mimetype": "text/x-python",
   "name": "python",
   "nbconvert_exporter": "python",
   "pygments_lexer": "ipython3",
   "version": "3.8.10"
  },
  "orig_nbformat": 4
 },
 "nbformat": 4,
 "nbformat_minor": 2
}
