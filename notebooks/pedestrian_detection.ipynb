{
 "cells": [
  {
   "cell_type": "code",
   "execution_count": null,
   "metadata": {},
   "outputs": [],
   "source": [
    "from IPython.display import Image, display\n",
    "# Image(filename='test.png') \n",
    "import cv2\n",
    "import imutils\n",
    "\n",
    "# Initializing the HOG person\n",
    "# detector\n",
    "hog = cv2.HOGDescriptor()\n",
    "hog.setSVMDetector(cv2.HOGDescriptor_getDefaultPeopleDetector())\n",
    "\n",
    "# cap = cv2.VideoCapture('vid.mp4')\n",
    "cap = cv2.VideoCapture('/outputs/jitter-10/clips/3-0-0-0.mp4')\n",
    "# cap = cv2.VideoCapture('/outputs/jitter-10/clips/105-0-0-0.mp4')\n",
    "\n",
    "\n",
    "counter = 0\n",
    "while cap.isOpened():\n",
    "\t# Reading the video stream\n",
    "\tret, image = cap.read()\n",
    "\tif ret:\n",
    "\t\timage = imutils.resize(image,\n",
    "\t\t\t\t\t\t\twidth=min(600, image.shape[1]))\n",
    "\n",
    "\t\t# Detecting all the regions\n",
    "\t\t# in the Image that has a\n",
    "\t\t# pedestrians inside it\n",
    "\t\t(regions, _) = hog.detectMultiScale(image,\n",
    "\t\t\t\t\t\t\t\t\t\t\twinStride=(8, 8),\n",
    "\t\t\t\t\t\t\t\t\t\t\tpadding=(32, 32),\n",
    "\t\t\t\t\t\t\t\t\t\t\tscale=1.05)\n",
    "\n",
    "\t\t# Drawing the regions in the\n",
    "\t\t# Image\n",
    "\t\tfor (x, y, w, h) in regions:\n",
    "\t\t\tcv2.rectangle(image, (x, y),\n",
    "\t\t\t\t\t\t(x + w, y + h),\n",
    "\t\t\t\t\t\t(0, 0, 255), 2)\n",
    "\t\t# display(Image(filename=image))\n",
    "\t\t# display image\n",
    "\t\tdisplay(Image(data=cv2.imencode('.jpg', image)[1].tostring()))\n",
    "\t\t# Showing the output Image\n",
    "\t\t# cv2.imshow(\"Image\", image)\n",
    "\n",
    "\t\tif counter == 120:\n",
    "\t\t\tbreak\n",
    "\t\tcounter += 1\n",
    "\n",
    "\telse:\n",
    "\t\tbreak\n",
    "\n",
    "cap.release()\n",
    "# cv2.destroyAllWindows()\n"
   ]
  },
  {
   "cell_type": "code",
   "execution_count": null,
   "metadata": {},
   "outputs": [],
   "source": []
  }
 ],
 "metadata": {
  "interpreter": {
   "hash": "006d5deb8e6cdcd4312641bdf15f3bc20f0769a7305d81173599a7b40f33b4a2"
  },
  "kernelspec": {
   "display_name": "Python 3.8.10 64-bit",
   "language": "python",
   "name": "python3"
  },
  "language_info": {
   "codemirror_mode": {
    "name": "ipython",
    "version": 3
   },
   "file_extension": ".py",
   "mimetype": "text/x-python",
   "name": "python",
   "nbconvert_exporter": "python",
   "pygments_lexer": "ipython3",
   "version": "3.8.10"
  },
  "orig_nbformat": 4
 },
 "nbformat": 4,
 "nbformat_minor": 2
}
